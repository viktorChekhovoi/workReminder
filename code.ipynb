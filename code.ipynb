{
 "cells": [
  {
   "cell_type": "code",
   "execution_count": 56,
   "metadata": {},
   "outputs": [
    {
     "name": "stdout",
     "output_type": "stream",
     "text": [
      "2019-07-15T14:17:21Z\n",
      "go work \n",
      "2 days, 5:58:25.556956\n"
     ]
    }
   ],
   "source": [
    "import requests\n",
    "import json\n",
    "import datetime\n",
    "url = 'https://api.github.com/users/victorChekhovoy/events'\n",
    "r = requests.get(url)\n",
    "response = r.json()\n",
    "for a in response:\n",
    "    if a['type'] == 'PushEvent':\n",
    "        last_commit_from_json = a['created_at']\n",
    "        break\n",
    "today = datetime.datetime.now()\n",
    "last_commit = str(last_commit_from_json)\n",
    "print(last_commit)\n",
    "\n",
    "last_commit_date = datetime.date(int(last_commit[:4]), int(last_commit[5:7]), int(last_commit[8:10]))\n",
    "last_commit_time = datetime.time(int(last_commit[11:13]), int(last_commit[14:16]))\n",
    "last_commit_datetime = datetime.datetime.combine(last_commit_date, last_commit_time)\n",
    "\n",
    "commits_timedelta = today - last_commit_datetime\n",
    "two_day_timedelta = datetime.date(2019, 7, 3) - datetime.date(2019, 7, 1)\n",
    "\n",
    "if commits_timedelta > two_day_timedelta:\n",
    "    print ('go work ')\n"
   ]
  },
  {
   "cell_type": "code",
   "execution_count": 43,
   "metadata": {},
   "outputs": [
    {
     "name": "stdout",
     "output_type": "stream",
     "text": [
      "2019-07-17 19:54:30.471148\n"
     ]
    }
   ],
   "source": [
    "import datetime\n",
    "print (datetime.datetime.now())"
   ]
  },
  {
   "cell_type": "code",
   "execution_count": null,
   "metadata": {},
   "outputs": [],
   "source": []
  }
 ],
 "metadata": {
  "kernelspec": {
   "display_name": "Python 3",
   "language": "python",
   "name": "python3"
  },
  "language_info": {
   "codemirror_mode": {
    "name": "ipython",
    "version": 3
   },
   "file_extension": ".py",
   "mimetype": "text/x-python",
   "name": "python",
   "nbconvert_exporter": "python",
   "pygments_lexer": "ipython3",
   "version": "3.7.3"
  }
 },
 "nbformat": 4,
 "nbformat_minor": 2
}
