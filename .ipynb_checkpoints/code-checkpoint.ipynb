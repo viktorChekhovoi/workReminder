{
 "cells": [
  {
   "cell_type": "code",
   "execution_count": 17,
   "metadata": {},
   "outputs": [
    {
     "name": "stdout",
     "output_type": "stream",
     "text": [
      "please enter your GitHub username: victorChekhovoy\n",
      "please enter your email address: victor.chekhovoy@gmail.com\n",
      "you're all good!\n"
     ]
    },
    {
     "ename": "KeyboardInterrupt",
     "evalue": "",
     "output_type": "error",
     "traceback": [
      "\u001b[0;31m---------------------------------------------------------------------------\u001b[0m",
      "\u001b[0;31mKeyboardInterrupt\u001b[0m                         Traceback (most recent call last)",
      "\u001b[0;32m<ipython-input-17-844f51d1ab23>\u001b[0m in \u001b[0;36m<module>\u001b[0;34m\u001b[0m\n\u001b[1;32m     54\u001b[0m         \u001b[0mprint\u001b[0m\u001b[0;34m(\u001b[0m\u001b[0;34m\"you're all good!\"\u001b[0m\u001b[0;34m)\u001b[0m\u001b[0;34m\u001b[0m\u001b[0;34m\u001b[0m\u001b[0m\n\u001b[1;32m     55\u001b[0m     \u001b[0mtoday\u001b[0m \u001b[0;34m+=\u001b[0m \u001b[0mone_hour_interval\u001b[0m\u001b[0;34m\u001b[0m\u001b[0;34m\u001b[0m\u001b[0m\n\u001b[0;32m---> 56\u001b[0;31m     \u001b[0mtime\u001b[0m\u001b[0;34m.\u001b[0m\u001b[0msleep\u001b[0m\u001b[0;34m(\u001b[0m\u001b[0;36m3600\u001b[0m\u001b[0;34m)\u001b[0m\u001b[0;34m\u001b[0m\u001b[0;34m\u001b[0m\u001b[0m\n\u001b[0m",
      "\u001b[0;31mKeyboardInterrupt\u001b[0m: "
     ]
    }
   ],
   "source": [
    "import requests\n",
    "import json\n",
    "import datetime\n",
    "import smtplib, ssl\n",
    "import time\n",
    "github_username = input('please enter your GitHub username: ')\n",
    "receiver_email = input('please enter your email address: ')\n",
    "message = \"\"\"\\\n",
    "Subject: GitHub missed you :(\n",
    "\n",
    "Looks like you didn't commit anything to GitHub for two days now. Whether you're taking a break or just keeping it on your PC, here's a reminder to save your work!\n",
    "\n",
    "Sincerely yours,\n",
    "WorkReminder\"\"\"\n",
    "\n",
    "url = \"https://api.github.com/users/\" + github_username + \"/events\"\n",
    "\n",
    "\n",
    "\n",
    "\n",
    "port = 465\n",
    "password = 'C30226810'\n",
    "context = ssl.create_default_context()\n",
    "\n",
    "with smtplib.SMTP_SSL(\"smtp.gmail.com\", port, context=context) as server:\n",
    "    server.login(\"you.forgot.to.commit@gmail.com\", password)\n",
    "    \n",
    "today = datetime.datetime.now() - datetime.timedelta(hours = 3)\n",
    "one_hour_interval = datetime.timedelta(hours = 1)\n",
    "\n",
    "while True:\n",
    "\n",
    "    r = requests.get(url)\n",
    "    response = r.json()\n",
    "    for a in response:\n",
    "        if a['type'] == 'PushEvent':\n",
    "            last_commit_from_json = a['created_at']\n",
    "            break\n",
    "\n",
    "    last_commit = str(last_commit_from_json)\n",
    "    last_commit_date = datetime.date(int(last_commit[:4]), int(last_commit[5:7]), int(last_commit[8:10]))\n",
    "    last_commit_time = datetime.time(int(last_commit[11:13]), int(last_commit[14:16]))\n",
    "    last_commit_datetime = datetime.datetime.combine(last_commit_date, last_commit_time)\n",
    "\n",
    "    commits_timedelta = today - last_commit_datetime\n",
    "    two_day_timedelta = datetime.timedelta(hours = 2)\n",
    "\n",
    "\n",
    "    if commits_timedelta > two_day_timedelta:\n",
    "        with smtplib.SMTP_SSL(\"smtp.gmail.com\", port, context=context) as server:\n",
    "            server.login(\"you.forgot.to.commit@gmail.com\", password)\n",
    "            server.sendmail(\"you.forgot.to.commit@gmail.com\", receiver_email, message)\n",
    "    else:\n",
    "        print(\"you're all good!\")\n",
    "    today += one_hour_interval\n",
    "    time.sleep(3600)"
   ]
  },
  {
   "cell_type": "code",
   "execution_count": 43,
   "metadata": {},
   "outputs": [
    {
     "name": "stdout",
     "output_type": "stream",
     "text": [
      "2019-07-17 19:54:30.471148\n"
     ]
    }
   ],
   "source": [
    "import datetime\n",
    "print (datetime.datetime.now())"
   ]
  },
  {
   "cell_type": "code",
   "execution_count": 14,
   "metadata": {},
   "outputs": [
    {
     "name": "stdout",
     "output_type": "stream",
     "text": [
      "2019-07-21T11:54:07Z\n"
     ]
    }
   ],
   "source": [
    "import requests\n",
    "import json\n",
    "url = \"https://api.github.com/users/\" + \"victorChekhovoy\" + \"/events\"\n",
    "\n",
    "r = requests.get(url)\n",
    "response = r.json()\n",
    "for a in response:\n",
    "    if a['type'] == 'PushEvent':\n",
    "        last_commit_from_json = a['created_at']\n",
    "        break\n",
    "print (last_commit_from_json)"
   ]
  },
  {
   "cell_type": "code",
   "execution_count": null,
   "metadata": {},
   "outputs": [],
   "source": []
  }
 ],
 "metadata": {
  "kernelspec": {
   "display_name": "Python 3",
   "language": "python",
   "name": "python3"
  },
  "language_info": {
   "codemirror_mode": {
    "name": "ipython",
    "version": 3
   },
   "file_extension": ".py",
   "mimetype": "text/x-python",
   "name": "python",
   "nbconvert_exporter": "python",
   "pygments_lexer": "ipython3",
   "version": "3.7.3"
  }
 },
 "nbformat": 4,
 "nbformat_minor": 2
}
