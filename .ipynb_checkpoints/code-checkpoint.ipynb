{
 "cells": [
  {
   "cell_type": "code",
   "execution_count": 5,
   "metadata": {},
   "outputs": [
    {
     "name": "stdout",
     "output_type": "stream",
     "text": [
      "please enter your GitHub username: victorChekhovoy\n",
      "please enter your email address: victor.chekhovoy@gmail.com\n",
      "2019-07-17T17:19:15Z\n"
     ]
    }
   ],
   "source": [
    "import requests\n",
    "import json\n",
    "import datetime\n",
    "import smtplib, ssl\n",
    "\n",
    "github_username = input('please enter your GitHub username: ')\n",
    "receiver_email = input('please enter your email address: ')\n",
    "message = \"\"\"\\\n",
    "Subject: GitHub missed you :(\n",
    "\n",
    "Looks like you didn't commit anything to GitHub for two days now. Whether you're taking a break or just keeping it on your PC, here's a reminder to save your work!\n",
    "\n",
    "Sincerely yours,\n",
    "WorkReminder\"\"\"\n",
    "\n",
    "url = \"https://api.github.com/users/\" + github_username + \"/events\"\n",
    "r = requests.get(url)\n",
    "response = r.json()\n",
    "for a in response:\n",
    "    if a['type'] == 'PushEvent':\n",
    "        last_commit_from_json = a['created_at']\n",
    "        break\n",
    "today = datetime.datetime.now()\n",
    "last_commit = str(last_commit_from_json)\n",
    "print(last_commit)\n",
    "\n",
    "last_commit_date = datetime.date(int(last_commit[:4]), int(last_commit[5:7]), int(last_commit[8:10]))\n",
    "last_commit_time = datetime.time(int(last_commit[11:13]), int(last_commit[14:16]))\n",
    "last_commit_datetime = datetime.datetime.combine(last_commit_date, last_commit_time)\n",
    "\n",
    "commits_timedelta = today - last_commit_datetime\n",
    "two_day_timedelta = datetime.date(2019, 7, 3) - datetime.date(2019, 7, 1)\n",
    "\n",
    "\n",
    "port = 465\n",
    "password = 'C30226810'\n",
    "context = ssl.create_default_context()\n",
    "\n",
    "with smtplib.SMTP_SSL(\"smtp.gmail.com\", port, context=context) as server:\n",
    "    server.login(\"you.forgot.to.commit@gmail.com\", password)\n",
    "    \n",
    "if commits_timedelta > two_day_timedelta:\n",
    "    with smtplib.SMTP_SSL(\"smtp.gmail.com\", port, context=context) as server:\n",
    "        server.login(\"you.forgot.to.commit@gmail.com\", password)\n",
    "        server.sendmail(\"you.forgot.to.commit@gmail.com\", receiver_email, message)\n"
   ]
  },
  {
   "cell_type": "code",
   "execution_count": 43,
   "metadata": {},
   "outputs": [
    {
     "name": "stdout",
     "output_type": "stream",
     "text": [
      "2019-07-17 19:54:30.471148\n"
     ]
    }
   ],
   "source": [
    "import datetime\n",
    "print (datetime.datetime.now())"
   ]
  },
  {
   "cell_type": "code",
   "execution_count": null,
   "metadata": {},
   "outputs": [],
   "source": [
    "import smtplib, ssl\n",
    "\n",
    "port = 465  # For SSL\n",
    "password = input(\"Type your password and press enter: \")\n",
    "\n",
    "# Create a secure SSL context\n",
    "context = ssl.create_default_context()"
   ]
  }
 ],
 "metadata": {
  "kernelspec": {
   "display_name": "Python 3",
   "language": "python",
   "name": "python3"
  },
  "language_info": {
   "codemirror_mode": {
    "name": "ipython",
    "version": 3
   },
   "file_extension": ".py",
   "mimetype": "text/x-python",
   "name": "python",
   "nbconvert_exporter": "python",
   "pygments_lexer": "ipython3",
   "version": "3.7.3"
  }
 },
 "nbformat": 4,
 "nbformat_minor": 2
}
